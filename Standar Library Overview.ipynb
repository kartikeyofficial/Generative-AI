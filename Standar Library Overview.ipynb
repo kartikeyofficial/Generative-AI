{
 "cells": [
  {
   "cell_type": "markdown",
   "id": "f567e6b8",
   "metadata": {},
   "source": [
    "## Standard Library Overview"
   ]
  },
  {
   "cell_type": "code",
   "execution_count": 2,
   "id": "d2b5d16f",
   "metadata": {},
   "outputs": [
    {
     "name": "stdout",
     "output_type": "stream",
     "text": [
      "array('i', [1, 2, 3, 4, 5, 6])\n"
     ]
    }
   ],
   "source": [
    "import array\n",
    "arr= array.array('i',[1,2,3,4,5,6])\n",
    "print(arr)"
   ]
  },
  {
   "cell_type": "code",
   "execution_count": 8,
   "id": "a4b605c8",
   "metadata": {},
   "outputs": [
    {
     "name": "stdout",
     "output_type": "stream",
     "text": [
      "7\n",
      "banana\n"
     ]
    }
   ],
   "source": [
    "## Random Library\n",
    "import random\n",
    "print(random.randint(1,10))\n",
    "print(random.choice([\"apple\",\"banana\",\"Grapes\"]))"
   ]
  },
  {
   "cell_type": "code",
   "execution_count": 9,
   "id": "9fba989b",
   "metadata": {},
   "outputs": [
    {
     "name": "stdout",
     "output_type": "stream",
     "text": [
      "/home/kartikey/work/PYTHON/Generative AI\n"
     ]
    }
   ],
   "source": [
    "## File and Directory access\n",
    "import os\n",
    "print(os.getcwd())"
   ]
  },
  {
   "cell_type": "code",
   "execution_count": 11,
   "id": "f244bf8e",
   "metadata": {},
   "outputs": [],
   "source": [
    "os.mkdir('test_dir')"
   ]
  },
  {
   "cell_type": "code",
   "execution_count": 12,
   "id": "412d51a7",
   "metadata": {},
   "outputs": [
    {
     "data": {
      "text/plain": [
       "'destination.txt'"
      ]
     },
     "execution_count": 12,
     "metadata": {},
     "output_type": "execute_result"
    }
   ],
   "source": [
    "## High level opertion on files collection of files\n",
    "\n",
    "import shutil\n",
    "shutil.copyfile('sample.txt','destination.txt')\n"
   ]
  },
  {
   "cell_type": "code",
   "execution_count": 13,
   "id": "adbabd2d",
   "metadata": {},
   "outputs": [
    {
     "name": "stdout",
     "output_type": "stream",
     "text": [
      "{\"name\": \"kartikey\", \"age\": 19}\n",
      "<class 'str'>\n",
      "{'name': 'kartikey', 'age': 19}\n",
      "<class 'dict'>\n"
     ]
    }
   ],
   "source": [
    "## Data Serialization\n",
    "\n",
    "import json\n",
    "data={'name':'kartikey','age':19}\n",
    "\n",
    "json_str = json.dumps(data)\n",
    "print(json_str)\n",
    "print(type(json_str))\n",
    "\n",
    "parsed_data = json.loads(json_str)\n",
    "print(parsed_data)\n",
    "print(type(parsed_data))\n"
   ]
  }
 ],
 "metadata": {
  "kernelspec": {
   "display_name": "Python 3",
   "language": "python",
   "name": "python3"
  },
  "language_info": {
   "codemirror_mode": {
    "name": "ipython",
    "version": 3
   },
   "file_extension": ".py",
   "mimetype": "text/x-python",
   "name": "python",
   "nbconvert_exporter": "python",
   "pygments_lexer": "ipython3",
   "version": "3.12.3"
  }
 },
 "nbformat": 4,
 "nbformat_minor": 5
}
