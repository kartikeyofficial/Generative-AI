{
 "cells": [
  {
   "cell_type": "markdown",
   "id": "e98f740d",
   "metadata": {},
   "source": [
    "## Tuples\n",
    "\n",
    "it is immutable , but list are not immutable it can be modify easily. but in this case of tuples can not be modify easily"
   ]
  },
  {
   "cell_type": "code",
   "execution_count": 1,
   "id": "8be4d63d",
   "metadata": {},
   "outputs": [
    {
     "name": "stdout",
     "output_type": "stream",
     "text": [
      "<class 'tuple'>\n",
      "()\n"
     ]
    }
   ],
   "source": [
    "## Creating the Tuples\n",
    "\n",
    "tuples= ()\n",
    "print(type(tuples))\n",
    "print(tuples)"
   ]
  },
  {
   "cell_type": "code",
   "execution_count": null,
   "id": "5110561d",
   "metadata": {},
   "outputs": [
    {
     "name": "stdout",
     "output_type": "stream",
     "text": [
      "(1, 2, 3, 4, 5, 6, 7)\n"
     ]
    }
   ],
   "source": [
    "numbers= tuple([1,2,3,4,5,6,7])  ## You can converts the list into the Tuples\n",
    "print(numbers)"
   ]
  },
  {
   "cell_type": "code",
   "execution_count": null,
   "id": "a77e0901",
   "metadata": {},
   "outputs": [
    {
     "data": {
      "text/plain": [
       "[1, 2, 3, 4, 5, 6, 7]"
      ]
     },
     "execution_count": 3,
     "metadata": {},
     "output_type": "execute_result"
    }
   ],
   "source": [
    "list((1,2,3,4,5,6,7))  ## And you can easily tuple converts into the List"
   ]
  },
  {
   "cell_type": "code",
   "execution_count": 4,
   "id": "1459e215",
   "metadata": {},
   "outputs": [
    {
     "name": "stdout",
     "output_type": "stream",
     "text": [
      "(1, 'Hello', 3.14, True)\n"
     ]
    }
   ],
   "source": [
    "mixed_tuples=(1,\"Hello\",3.14,True)\n",
    "print(mixed_tuples)"
   ]
  },
  {
   "cell_type": "markdown",
   "id": "ccc31a39",
   "metadata": {},
   "source": [
    "### Accesing The Tuples Elements"
   ]
  },
  {
   "cell_type": "code",
   "execution_count": 5,
   "id": "c4fc1dcf",
   "metadata": {},
   "outputs": [
    {
     "data": {
      "text/plain": [
       "(1, 2, 3, 4, 5, 6, 7)"
      ]
     },
     "execution_count": 5,
     "metadata": {},
     "output_type": "execute_result"
    }
   ],
   "source": [
    "## Accessing the Tuples Elements\n",
    "\n",
    "numbers"
   ]
  },
  {
   "cell_type": "code",
   "execution_count": 6,
   "id": "3bc025a5",
   "metadata": {},
   "outputs": [
    {
     "data": {
      "text/plain": [
       "1"
      ]
     },
     "execution_count": 6,
     "metadata": {},
     "output_type": "execute_result"
    }
   ],
   "source": [
    "numbers[0]"
   ]
  },
  {
   "cell_type": "code",
   "execution_count": 7,
   "id": "bc577472",
   "metadata": {},
   "outputs": [
    {
     "name": "stdout",
     "output_type": "stream",
     "text": [
      "3\n",
      "7\n"
     ]
    }
   ],
   "source": [
    "print(numbers[2])\n",
    "print(numbers[-1])"
   ]
  },
  {
   "cell_type": "code",
   "execution_count": 8,
   "id": "1d284e0b",
   "metadata": {},
   "outputs": [
    {
     "data": {
      "text/plain": [
       "(1, 2, 3, 4)"
      ]
     },
     "execution_count": 8,
     "metadata": {},
     "output_type": "execute_result"
    }
   ],
   "source": [
    "numbers[0:4]"
   ]
  },
  {
   "cell_type": "code",
   "execution_count": 9,
   "id": "f6b2f02b",
   "metadata": {},
   "outputs": [
    {
     "data": {
      "text/plain": [
       "(7, 6, 5, 4, 3, 2, 1)"
      ]
     },
     "execution_count": 9,
     "metadata": {},
     "output_type": "execute_result"
    }
   ],
   "source": [
    "numbers[::-1]"
   ]
  },
  {
   "cell_type": "markdown",
   "id": "7759997b",
   "metadata": {},
   "source": [
    "### Tuples Operation"
   ]
  },
  {
   "cell_type": "code",
   "execution_count": null,
   "id": "62a4bc4f",
   "metadata": {},
   "outputs": [
    {
     "data": {
      "text/plain": [
       "(1, 2, 3, 4, 5, 6, 7, 1, 'Hello', 3.14, True)"
      ]
     },
     "execution_count": 10,
     "metadata": {},
     "output_type": "execute_result"
    }
   ],
   "source": [
    "numbers+ mixed_tuples  ## Concatination Tuples"
   ]
  },
  {
   "cell_type": "code",
   "execution_count": null,
   "id": "16735caf",
   "metadata": {},
   "outputs": [
    {
     "data": {
      "text/plain": [
       "(1, 'Hello', 3.14, True, 1, 'Hello', 3.14, True, 1, 'Hello', 3.14, True)"
      ]
     },
     "execution_count": 11,
     "metadata": {},
     "output_type": "execute_result"
    }
   ],
   "source": [
    "mixed_tuples * 3  ## Repeted Tuples using *"
   ]
  },
  {
   "cell_type": "code",
   "execution_count": 12,
   "id": "b2fef99d",
   "metadata": {},
   "outputs": [
    {
     "data": {
      "text/plain": [
       "(1, 2, 3, 4, 5, 6, 7, 1, 2, 3, 4, 5, 6, 7, 1, 2, 3, 4, 5, 6, 7)"
      ]
     },
     "execution_count": 12,
     "metadata": {},
     "output_type": "execute_result"
    }
   ],
   "source": [
    "numbers*3"
   ]
  },
  {
   "cell_type": "code",
   "execution_count": null,
   "id": "58ad4f9f",
   "metadata": {},
   "outputs": [
    {
     "name": "stdout",
     "output_type": "stream",
     "text": [
      "[1, 2, 3, 4, 5, 6]\n",
      "[1, 'Kartikey', 3, 4, 5, 6]\n"
     ]
    }
   ],
   "source": [
    "## Immutable Nature of Tuples\n",
    "\n",
    "## When You Want to modify the Tuples Then First Converts The Tuples Into the List,\n",
    "## Then You can Modify \n",
    "\n",
    "lst=[1,2,3,4,5,6]\n",
    "print(lst)\n",
    "\n",
    "lst[1]= \"Kartikey\"\n",
    "print(lst)"
   ]
  },
  {
   "cell_type": "markdown",
   "id": "807f8fd6",
   "metadata": {},
   "source": [
    "### Tuples Method"
   ]
  },
  {
   "cell_type": "code",
   "execution_count": 18,
   "id": "ace6e4fa",
   "metadata": {},
   "outputs": [
    {
     "name": "stdout",
     "output_type": "stream",
     "text": [
      "1\n",
      "2\n"
     ]
    }
   ],
   "source": [
    "print(numbers.count(1))\n",
    "print(numbers.index(3))"
   ]
  },
  {
   "cell_type": "markdown",
   "id": "233ee954",
   "metadata": {},
   "source": [
    "### Packing and Unpacking The Tuples"
   ]
  },
  {
   "cell_type": "code",
   "execution_count": null,
   "id": "50ed1d6f",
   "metadata": {},
   "outputs": [
    {
     "name": "stdout",
     "output_type": "stream",
     "text": [
      "(1, 'Hello', 3.14)\n"
     ]
    }
   ],
   "source": [
    "## Packing The Tuple\n",
    "packed_Tup= 1,\"Hello\",3.14\n",
    "print(packed_Tup)"
   ]
  },
  {
   "cell_type": "code",
   "execution_count": 20,
   "id": "146810f5",
   "metadata": {},
   "outputs": [
    {
     "name": "stdout",
     "output_type": "stream",
     "text": [
      "1\n",
      "Hello\n",
      "3.14\n"
     ]
    }
   ],
   "source": [
    "## Unpacked tuples\n",
    "\n",
    "a,b,c = packed_Tup\n",
    "print(a)\n",
    "print(b)\n",
    "print(c)"
   ]
  },
  {
   "cell_type": "code",
   "execution_count": 21,
   "id": "f1da8910",
   "metadata": {},
   "outputs": [
    {
     "name": "stdout",
     "output_type": "stream",
     "text": [
      "1\n",
      "[2, 3, 4, 5, 6]\n",
      "7\n"
     ]
    }
   ],
   "source": [
    "## Unpacking Using With *\n",
    "numbers=(1,2,3,4,5,6,7)\n",
    "first,*middle,last=numbers\n",
    "print(first)\n",
    "print(middle)\n",
    "print(last)"
   ]
  },
  {
   "cell_type": "code",
   "execution_count": 24,
   "id": "e43ff4cd",
   "metadata": {},
   "outputs": [
    {
     "data": {
      "text/plain": [
       "[1, 2, 3]"
      ]
     },
     "execution_count": 24,
     "metadata": {},
     "output_type": "execute_result"
    }
   ],
   "source": [
    "## Nested Tuples\n",
    "## Nested List\n",
    "lst=[[1,2,3,4],[6,7,8,9],[1,\"Hello\",3.14,True]]\n",
    "lst[0][2]\n",
    "lst[0][0:3]"
   ]
  },
  {
   "cell_type": "code",
   "execution_count": 26,
   "id": "630a1919",
   "metadata": {},
   "outputs": [
    {
     "data": {
      "text/plain": [
       "(1, 'Hello', 3.14)"
      ]
     },
     "execution_count": 26,
     "metadata": {},
     "output_type": "execute_result"
    }
   ],
   "source": [
    "lst=[[1,2,3,4],[6,7,8,9],(1,\"Hello\",3.14,True)]\n",
    "\n",
    "lst[2][0:3]"
   ]
  },
  {
   "cell_type": "code",
   "execution_count": 28,
   "id": "f9018ee9",
   "metadata": {},
   "outputs": [
    {
     "name": "stdout",
     "output_type": "stream",
     "text": [
      "c\n"
     ]
    }
   ],
   "source": [
    "## Access The Elements inside the Tuple\n",
    "\n",
    "nested_tuple=((11,2,3),('a','b','c'),(True,False))\n",
    "print(nested_tuple[1][2])"
   ]
  },
  {
   "cell_type": "code",
   "execution_count": 30,
   "id": "1bea9048",
   "metadata": {},
   "outputs": [
    {
     "name": "stdout",
     "output_type": "stream",
     "text": [
      "11,2,3,\n",
      "a,b,c,\n",
      "True,False,\n"
     ]
    }
   ],
   "source": [
    "## Iterating Over Nested Tuples\n",
    "\n",
    "for sub_tuple in nested_tuple:\n",
    "    for item in sub_tuple:\n",
    "        print(item,end=\",\")\n",
    "    print()"
   ]
  }
 ],
 "metadata": {
  "kernelspec": {
   "display_name": "Python 3",
   "language": "python",
   "name": "python3"
  },
  "language_info": {
   "codemirror_mode": {
    "name": "ipython",
    "version": 3
   },
   "file_extension": ".py",
   "mimetype": "text/x-python",
   "name": "python",
   "nbconvert_exporter": "python",
   "pygments_lexer": "ipython3",
   "version": "3.12.3"
  }
 },
 "nbformat": 4,
 "nbformat_minor": 5
}
