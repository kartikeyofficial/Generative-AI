{
 "cells": [
  {
   "cell_type": "markdown",
   "id": "cd925da6",
   "metadata": {},
   "source": [
    "### Variable"
   ]
  },
  {
   "cell_type": "code",
   "execution_count": null,
   "id": "d30a9522",
   "metadata": {},
   "outputs": [
    {
     "name": "stdout",
     "output_type": "stream",
     "text": [
      "100\n"
     ]
    }
   ],
   "source": [
    "a=100\n",
    "print(a)"
   ]
  },
  {
   "cell_type": "code",
   "execution_count": null,
   "id": "44894bcd",
   "metadata": {},
   "outputs": [
    {
     "name": "stdout",
     "output_type": "stream",
     "text": [
      "age: 35\n",
      "height: 6\n",
      "Name: Kumar Kartikey\n"
     ]
    }
   ],
   "source": [
    "## Declareing and Assigning the variable.\n",
    "age =35\n",
    "hieght=6\n",
    "name= \"Kumar Kartikey\"\n",
    "\n",
    "\n",
    "## Printing the variable\n",
    "print(\"age:\",age)\n",
    "print(\"height:\",hieght)\n",
    "print(\"Name:\",name)\n"
   ]
  },
  {
   "cell_type": "code",
   "execution_count": null,
   "id": "0f81e88f",
   "metadata": {},
   "outputs": [],
   "source": [
    "## Naming Convention\n",
    "## Variable Names should be descriptive\n",
    "## they must start with a letter or an '_' and contains letters, numbers anfd underscores\n",
    "## variables are case sensitive\n",
    "\n",
    "first_name= \"Kumar\"\n",
    "last_name=\"Kartikey\"\n",
    "\n",
    "## Invalid Variables\n",
    "\n",
    "# first-name=\"Kartikey\"\n",
    "# @name=\"Kartikey\"\n"
   ]
  },
  {
   "cell_type": "code",
   "execution_count": null,
   "id": "e0369fe4",
   "metadata": {},
   "outputs": [
    {
     "name": "stdout",
     "output_type": "stream",
     "text": [
      "Kartikey\n",
      "Kartikey\n"
     ]
    }
   ],
   "source": [
    "## CAse Sensitive\n",
    "name=\"Kumar\"\n",
    "Name=\"Kartikey\"\n",
    "name=Name\n",
    "print(name)\n",
    "print(Name)"
   ]
  },
  {
   "cell_type": "code",
   "execution_count": null,
   "id": "bbb319f3",
   "metadata": {},
   "outputs": [
    {
     "name": "stdout",
     "output_type": "stream",
     "text": [
      "<class 'str'>\n"
     ]
    }
   ],
   "source": [
    "## Understanding Variable Types\n",
    "## Python is Dynamically typed, type of a variable determine at runtime\n",
    "age=25\n",
    "height=6.24 ##float\n",
    "name=\"Kartikey\" ## str\n",
    "is_student= True ## Boolean\n",
    "print(type(name))"
   ]
  },
  {
   "cell_type": "code",
   "execution_count": null,
   "id": "492ba7a7",
   "metadata": {},
   "outputs": [
    {
     "name": "stdout",
     "output_type": "stream",
     "text": [
      "<class 'int'>\n",
      "25\n",
      "<class 'str'>\n"
     ]
    }
   ],
   "source": [
    "age=25\n",
    "print(type(age))\n",
    "\n",
    "## Type Conversion\n",
    "age_str= str(age)\n",
    "print(age_str)\n",
    "print(type(age_str))"
   ]
  },
  {
   "cell_type": "code",
   "execution_count": null,
   "id": "df2165ce",
   "metadata": {},
   "outputs": [
    {
     "name": "stdout",
     "output_type": "stream",
     "text": [
      "<class 'float'>\n"
     ]
    }
   ],
   "source": [
    "height= 6.23\n",
    "print(type(height))"
   ]
  },
  {
   "cell_type": "code",
   "execution_count": null,
   "id": "26c493fb",
   "metadata": {},
   "outputs": [
    {
     "data": {
      "text/plain": [
       "6"
      ]
     },
     "execution_count": 16,
     "metadata": {},
     "output_type": "execute_result"
    }
   ],
   "source": [
    "float(int(height)) ## It converts Into The Float Value\n",
    "int(height)  ## converts Into The Integer value "
   ]
  },
  {
   "cell_type": "code",
   "execution_count": null,
   "id": "12799577",
   "metadata": {},
   "outputs": [
    {
     "name": "stdout",
     "output_type": "stream",
     "text": [
      "10 <class 'int'>\n",
      "Hello <class 'str'>\n",
      "3.5657 <class 'float'>\n"
     ]
    }
   ],
   "source": [
    "## Dynamic Typing\n",
    "\n",
    "var= 10 ## Int\n",
    "print(var, type(var))\n",
    "\n",
    "var= \"Hello\"\n",
    "print(var, type(var))\n",
    "\n",
    "var = 3.5657\n",
    "print(var, type(var))"
   ]
  },
  {
   "cell_type": "code",
   "execution_count": 3,
   "id": "d17562bb",
   "metadata": {},
   "outputs": [
    {
     "name": "stdout",
     "output_type": "stream",
     "text": [
      "10 <class 'int'>\n"
     ]
    }
   ],
   "source": [
    "## Input user\n",
    "age=int(input(\"What Is Your Age:\"))\n",
    "print(age,type(age))\n"
   ]
  },
  {
   "cell_type": "code",
   "execution_count": 4,
   "id": "7b9154e2",
   "metadata": {},
   "outputs": [
    {
     "name": "stdout",
     "output_type": "stream",
     "text": [
      "Sum: 30.0\n",
      "Substract: 10.0\n",
      "Multiply: 200.0\n",
      "Devide: 2.0\n"
     ]
    }
   ],
   "source": [
    "## Simple Calculator\n",
    "\n",
    "num1= float(input(\"Enter The First Number:\"))\n",
    "num2= float(input(\"Enter The Second Number:\"))\n",
    "sum = num1+ num2\n",
    "substract= num1-num2\n",
    "multiply = num1*num2\n",
    "devide= num1/num2\n",
    "\n",
    "print(\"Sum:\",sum)\n",
    "print(\"Substract:\",substract)\n",
    "print(\"Multiply:\",multiply)\n",
    "print(\"Devide:\",devide)"
   ]
  }
 ],
 "metadata": {
  "kernelspec": {
   "display_name": "Python 3",
   "language": "python",
   "name": "python3"
  },
  "language_info": {
   "codemirror_mode": {
    "name": "ipython",
    "version": 3
   },
   "file_extension": ".py",
   "mimetype": "text/x-python",
   "name": "python",
   "nbconvert_exporter": "python",
   "pygments_lexer": "ipython3",
   "version": "3.12.3"
  }
 },
 "nbformat": 4,
 "nbformat_minor": 5
}
