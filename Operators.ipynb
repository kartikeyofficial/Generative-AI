{
 "cells": [
  {
   "cell_type": "markdown",
   "id": "46696257",
   "metadata": {},
   "source": [
    "## Arithmetic Operators"
   ]
  },
  {
   "cell_type": "code",
   "execution_count": null,
   "id": "4fcfa57a",
   "metadata": {},
   "outputs": [
    {
     "name": "stdout",
     "output_type": "stream",
     "text": [
      "25\n",
      "-5\n",
      "150\n",
      "0.6666666666666666\n",
      "0\n",
      "10\n",
      "1000000000000000\n"
     ]
    }
   ],
   "source": [
    "## Arithmetic Opertors\n",
    "a =10\n",
    "b =15\n",
    "add_result = a+b  ## Addition\n",
    "sub_result = a-b  ## Substraction\n",
    "mult_result= a*b  ## Multiplication\n",
    "div_ressult= a/b  ## Division\n",
    "Floor_div_result= a//b  ## Floor Division\n",
    "modulus_result= a%b   ## Modulus Operation\n",
    "exponential_result= a**b ## Exponential\n",
    "\n",
    "print(add_result)\n",
    "print(sub_result)\n",
    "print(mult_result)\n",
    "print(div_ressult)\n",
    "print(Floor_div_result)\n",
    "print(modulus_result)\n",
    "print(exponential_result)\n"
   ]
  },
  {
   "cell_type": "code",
   "execution_count": null,
   "id": "7e6ebf42",
   "metadata": {},
   "outputs": [],
   "source": [
    "21//5 ## Floor Division"
   ]
  },
  {
   "cell_type": "markdown",
   "id": "c6aec7b3",
   "metadata": {},
   "source": [
    "## Comparison Operators"
   ]
  },
  {
   "cell_type": "code",
   "execution_count": 6,
   "id": "1234b3d9",
   "metadata": {},
   "outputs": [
    {
     "data": {
      "text/plain": [
       "True"
      ]
     },
     "execution_count": 6,
     "metadata": {},
     "output_type": "execute_result"
    }
   ],
   "source": [
    "## Comparision Opertors\n",
    "a=10\n",
    "b=10\n",
    "a==b\n"
   ]
  },
  {
   "cell_type": "code",
   "execution_count": null,
   "id": "74b908c1",
   "metadata": {},
   "outputs": [
    {
     "data": {
      "text/plain": [
       "True"
      ]
     },
     "execution_count": 7,
     "metadata": {},
     "output_type": "execute_result"
    }
   ],
   "source": [
    "## Equal to ==\n",
    "str1= \"Kartikey\"\n",
    "str2= \"Kartikey\"\n",
    "str1== str2"
   ]
  },
  {
   "cell_type": "code",
   "execution_count": 8,
   "id": "79e19533",
   "metadata": {},
   "outputs": [
    {
     "data": {
      "text/plain": [
       "True"
      ]
     },
     "execution_count": 8,
     "metadata": {},
     "output_type": "execute_result"
    }
   ],
   "source": [
    "## Not Equal To !=\n",
    "str3=\"Kartikey\"\n",
    "str4=\"kartikey\"\n",
    "str3!=str4"
   ]
  },
  {
   "cell_type": "code",
   "execution_count": null,
   "id": "92558923",
   "metadata": {},
   "outputs": [
    {
     "data": {
      "text/plain": [
       "True"
      ]
     },
     "execution_count": 11,
     "metadata": {},
     "output_type": "execute_result"
    }
   ],
   "source": [
    "## Greater Than >\n",
    "num1= 30\n",
    "num2 =20\n",
    "num1>num2"
   ]
  },
  {
   "cell_type": "code",
   "execution_count": null,
   "id": "eae39e90",
   "metadata": {},
   "outputs": [
    {
     "data": {
      "text/plain": [
       "False"
      ]
     },
     "execution_count": 12,
     "metadata": {},
     "output_type": "execute_result"
    }
   ],
   "source": [
    "## Less Than <\n",
    "num1<num2"
   ]
  },
  {
   "cell_type": "code",
   "execution_count": 13,
   "id": "732a0b95",
   "metadata": {},
   "outputs": [
    {
     "name": "stdout",
     "output_type": "stream",
     "text": [
      "True\n"
     ]
    }
   ],
   "source": [
    "## Greater Than or Equal To >=\n",
    "number1= 45\n",
    "number2= 45\n",
    "print(number1>=number2)"
   ]
  },
  {
   "cell_type": "markdown",
   "id": "472a6d04",
   "metadata": {},
   "source": [
    "## Logical Operators"
   ]
  },
  {
   "cell_type": "code",
   "execution_count": 15,
   "id": "e38f0608",
   "metadata": {},
   "outputs": [
    {
     "name": "stdout",
     "output_type": "stream",
     "text": [
      "True\n"
     ]
    }
   ],
   "source": [
    "## And, Not, OR\n",
    "x= True\n",
    "y= True\n",
    "result = x and y\n",
    "print(result)"
   ]
  },
  {
   "cell_type": "code",
   "execution_count": null,
   "id": "7315f2dc",
   "metadata": {},
   "outputs": [
    {
     "name": "stdout",
     "output_type": "stream",
     "text": [
      "False\n"
     ]
    }
   ],
   "source": [
    "## And \n",
    "X= True\n",
    "Y= False\n",
    "result = X and Y\n",
    "print(result)"
   ]
  },
  {
   "cell_type": "code",
   "execution_count": 17,
   "id": "db684ef9",
   "metadata": {},
   "outputs": [
    {
     "name": "stdout",
     "output_type": "stream",
     "text": [
      "True\n"
     ]
    }
   ],
   "source": [
    "## OR\n",
    "X= True\n",
    "Y= False\n",
    "result= X or Y\n",
    "print(result)"
   ]
  },
  {
   "cell_type": "code",
   "execution_count": 18,
   "id": "a89daa7b",
   "metadata": {},
   "outputs": [
    {
     "name": "stdout",
     "output_type": "stream",
     "text": [
      "False\n"
     ]
    }
   ],
   "source": [
    "X= False\n",
    "Y= False\n",
    "result= X or Y\n",
    "print(result)"
   ]
  },
  {
   "cell_type": "code",
   "execution_count": 19,
   "id": "78682165",
   "metadata": {},
   "outputs": [
    {
     "data": {
      "text/plain": [
       "False"
      ]
     },
     "execution_count": 19,
     "metadata": {},
     "output_type": "execute_result"
    }
   ],
   "source": [
    "## Not\n",
    "x= True\n",
    "not x"
   ]
  },
  {
   "cell_type": "code",
   "execution_count": 24,
   "id": "b6d434bf",
   "metadata": {},
   "outputs": [
    {
     "name": "stdout",
     "output_type": "stream",
     "text": [
      "Addtion:  30.0\n",
      "Substraction:  10.0\n",
      "Multiplication:  200.0\n",
      "Division:  2.0\n",
      "FlooorDivision:  2.0\n",
      "Modulus:  0.0\n",
      "Exponential:  10240000000000.0\n"
     ]
    }
   ],
   "source": [
    "## Simple Calculator\n",
    "num1= float(input(\"Enter The First Number:\"))\n",
    "num2= float(input(\"Enter The Second Number:\"))\n",
    "\n",
    "## Performing Arithmetic Operations\n",
    "\n",
    "addtion = num1+num2  ## Addition\n",
    "substraction = num1-num2  ## Substraction\n",
    "multiply = num1*num2  ## Multiplication\n",
    "division= num1/num2  ## Division\n",
    "FloorDivision= num1//num2  ## Floor Division\n",
    "modulus= num1%num2   ## Modulus Operation\n",
    "exponential= num1**num2 ## Exponential\n",
    "\n",
    "## Display Result\n",
    "print(\"Addtion: \",addtion)\n",
    "print(\"Substraction: \",substraction)\n",
    "print(\"Multiplication: \",multiply)\n",
    "print(\"Division: \",division)\n",
    "print(\"FlooorDivision: \",FloorDivision)\n",
    "print(\"Modulus: \",modulus)\n",
    "print(\"Exponential: \",exponential)"
   ]
  },
  {
   "cell_type": "code",
   "execution_count": 22,
   "id": "27605d0e",
   "metadata": {},
   "outputs": [
    {
     "name": "stdout",
     "output_type": "stream",
     "text": [
      "10\n"
     ]
    }
   ],
   "source": [
    "print(20-10)"
   ]
  }
 ],
 "metadata": {
  "kernelspec": {
   "display_name": "Python 3",
   "language": "python",
   "name": "python3"
  },
  "language_info": {
   "codemirror_mode": {
    "name": "ipython",
    "version": 3
   },
   "file_extension": ".py",
   "mimetype": "text/x-python",
   "name": "python",
   "nbconvert_exporter": "python",
   "pygments_lexer": "ipython3",
   "version": "3.12.3"
  }
 },
 "nbformat": 4,
 "nbformat_minor": 5
}
