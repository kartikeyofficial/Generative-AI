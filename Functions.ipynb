{
 "cells": [
  {
   "cell_type": "markdown",
   "id": "9ab390db",
   "metadata": {},
   "source": [
    "## Functions\n",
    "\n",
    "a Function is a block of code that perform a specif task. function help in organize code, reusing ccode and improving readabiltiy\n",
    "\n",
    "They Are Two Types:\n",
    "[1] Parameteraside\n",
    "[2] Default\n",
    "[3] Positional Argument\n",
    "[4] Keyword Argument\n"
   ]
  },
  {
   "cell_type": "code",
   "execution_count": null,
   "id": "462d6758",
   "metadata": {},
   "outputs": [],
   "source": [
    "## Syntax\n",
    "def Function_name(parameter):\n",
    "    \"\"\"Docstring\"\"\"\n",
    "    ## Function body\n",
    "    return expression\n"
   ]
  },
  {
   "cell_type": "code",
   "execution_count": null,
   "id": "d20db7f9",
   "metadata": {},
   "outputs": [],
   "source": [
    "num =24\n",
    "if num%2==0:\n",
    "    print(\"this number is even\")\n",
    "else:\n",
    "    print(\"This is Odd Number\")"
   ]
  },
  {
   "cell_type": "code",
   "execution_count": null,
   "id": "5b273085",
   "metadata": {},
   "outputs": [
    {
     "name": "stdout",
     "output_type": "stream",
     "text": [
      "The Number IS Even\n"
     ]
    }
   ],
   "source": [
    "def even_odd(num):\n",
    "    if num%2==0:\n",
    "        print(\"The Number IS Even\")\n",
    "    else:\n",
    "        print(\"the Number Id Odd\")\n",
    "even_odd(26)  ## Calling the Function"
   ]
  },
  {
   "cell_type": "code",
   "execution_count": 2,
   "id": "c1626957",
   "metadata": {},
   "outputs": [
    {
     "data": {
      "text/plain": [
       "10"
      ]
     },
     "execution_count": 2,
     "metadata": {},
     "output_type": "execute_result"
    }
   ],
   "source": [
    "## Function with multiple parameter\n",
    "def add(a,b):\n",
    "    c= a+b\n",
    "    return c\n",
    "add(4,6)"
   ]
  },
  {
   "cell_type": "code",
   "execution_count": 5,
   "id": "b6bc34fd",
   "metadata": {},
   "outputs": [
    {
     "name": "stdout",
     "output_type": "stream",
     "text": [
      "Hello Kartikey Welcome to Dwood\n"
     ]
    }
   ],
   "source": [
    "## Default parameters\n",
    "\n",
    "def greet(name):\n",
    "    print(f\"Hello {name} Welcome to Dwood\")\n",
    "greet(\"Kartikey\")"
   ]
  },
  {
   "cell_type": "code",
   "execution_count": null,
   "id": "435e099d",
   "metadata": {},
   "outputs": [
    {
     "name": "stdout",
     "output_type": "stream",
     "text": [
      "Hello Kartikey Welcome to Dwood\n"
     ]
    }
   ],
   "source": [
    "def greet(name=\"Kartikey\"):  ## Default Parameters\n",
    "    print(f\"Hello {name} Welcome to Dwood\")\n",
    "greet()"
   ]
  },
  {
   "cell_type": "code",
   "execution_count": null,
   "id": "63be7b77",
   "metadata": {},
   "outputs": [
    {
     "name": "stdout",
     "output_type": "stream",
     "text": [
      "1\n",
      "2\n",
      "3\n",
      "4\n",
      "5\n",
      "6\n",
      "7\n",
      "8\n",
      "kartikey\n"
     ]
    }
   ],
   "source": [
    "## Variable Length Argument\n",
    "## Positional and Keyword arguments\n",
    "\n",
    "def print_numbers(*args):  ## It is Use When we Use The Many Numbers Of Arguments In the Functions\n",
    "    for number in args:\n",
    "        print(number)\n",
    "print_numbers(1,2,3,4,5,6,7,8,\"kartikey\")"
   ]
  },
  {
   "cell_type": "code",
   "execution_count": 8,
   "id": "05caaab9",
   "metadata": {},
   "outputs": [
    {
     "name": "stdout",
     "output_type": "stream",
     "text": [
      "name:Kartikey\n",
      "age:19\n",
      "country:India\n"
     ]
    }
   ],
   "source": [
    "## Keyword Argument\n",
    "def print_details(**kwargs):\n",
    "    for key,value in kwargs.items():\n",
    "        print(f\"{key}:{value}\")\n",
    "print_details(name=\"Kartikey\",age=\"19\",country=\"India\")"
   ]
  },
  {
   "cell_type": "code",
   "execution_count": 9,
   "id": "6bd4010b",
   "metadata": {},
   "outputs": [
    {
     "name": "stdout",
     "output_type": "stream",
     "text": [
      "Positional arguments: 1\n",
      "Positional arguments: 2\n",
      "Positional arguments: 3\n",
      "Positional arguments: 4\n",
      "Positional arguments: 5\n",
      "Positional arguments: 6\n",
      "Positional arguments: Kartikey\n",
      "name:Kartikey\n",
      "age:19\n",
      "country:India\n"
     ]
    }
   ],
   "source": [
    "def print_details(*agrs,**kwargs):\n",
    "    for val in agrs:\n",
    "        print(f\"Positional arguments: {val}\")  ## Positional Arguments\n",
    "    for key,value in kwargs.items():\n",
    "        print(f\"{key}:{value}\")               ## Keyword Argument\n",
    "print_details(1,2,3,4,5,6,\"Kartikey\",name=\"Kartikey\",age=\"19\",country=\"India\")"
   ]
  }
 ],
 "metadata": {
  "kernelspec": {
   "display_name": "Python 3",
   "language": "python",
   "name": "python3"
  },
  "language_info": {
   "codemirror_mode": {
    "name": "ipython",
    "version": 3
   },
   "file_extension": ".py",
   "mimetype": "text/x-python",
   "name": "python",
   "nbconvert_exporter": "python",
   "pygments_lexer": "ipython3",
   "version": "3.12.3"
  }
 },
 "nbformat": 4,
 "nbformat_minor": 5
}
