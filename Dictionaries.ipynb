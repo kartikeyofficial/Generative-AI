{
 "cells": [
  {
   "cell_type": "markdown",
   "id": "cba27a3c",
   "metadata": {},
   "source": [
    "## Dictionaries\n",
    "\n",
    "Dictionaries Are the Unordered Collection of Items. They Store Data in Key-Values Pairs. Keys Must be unique and Immutable."
   ]
  },
  {
   "cell_type": "code",
   "execution_count": 1,
   "id": "0ce3e4ac",
   "metadata": {},
   "outputs": [
    {
     "name": "stdout",
     "output_type": "stream",
     "text": [
      "<class 'dict'>\n"
     ]
    }
   ],
   "source": [
    "##  Creating Dictionaries\n",
    "empty_Dictionary= {}\n",
    "print(type(empty_Dictionary))"
   ]
  },
  {
   "cell_type": "code",
   "execution_count": 2,
   "id": "d4127438",
   "metadata": {},
   "outputs": [
    {
     "data": {
      "text/plain": [
       "{}"
      ]
     },
     "execution_count": 2,
     "metadata": {},
     "output_type": "execute_result"
    }
   ],
   "source": [
    "empty_Dictionary= dict()\n",
    "empty_Dictionary"
   ]
  },
  {
   "cell_type": "code",
   "execution_count": null,
   "id": "03abd48c",
   "metadata": {},
   "outputs": [
    {
     "name": "stdout",
     "output_type": "stream",
     "text": [
      "{'Name': 'Kartikey', 'Age': '20', 'Grade': 'A+'}\n",
      "<class 'dict'>\n"
     ]
    }
   ],
   "source": [
    "student= {'Name':\"Kartikey\",\"Age\":\"20\",\"Grade\":\"A+\"}\n",
    "print(student)\n",
    "print(type(student))\n"
   ]
  },
  {
   "cell_type": "code",
   "execution_count": 16,
   "id": "6c416d4d",
   "metadata": {},
   "outputs": [
    {
     "name": "stdout",
     "output_type": "stream",
     "text": [
      "20\n",
      "Kartikey\n",
      "A+\n",
      "Kartikey\n",
      "None\n",
      "Not Available\n"
     ]
    }
   ],
   "source": [
    "## Accessing the Elements\n",
    "\n",
    "print(student[\"Age\"])\n",
    "print(student[\"Name\"])\n",
    "print(student[\"Grade\"])\n",
    "\n",
    "## Accessing the element using get() Function\n",
    "\n",
    "print(student.get('Name'))\n",
    "print(student.get('last_name'))\n",
    "print(student.get('name',\"Not Available\"))\n",
    "\n",
    "\n"
   ]
  },
  {
   "cell_type": "code",
   "execution_count": 18,
   "id": "db602574",
   "metadata": {},
   "outputs": [
    {
     "name": "stdout",
     "output_type": "stream",
     "text": [
      "{'Name': 'Rajput', 'Age': 33, 'Grade': 'A+'}\n",
      "{'Name': 'Rajput', 'Age': 33, 'Grade': 'A+'}\n",
      "{'Name': 'Rajput', 'Age': 33, 'Grade': 'A+', 'last_name': 'Rajput'}\n"
     ]
    }
   ],
   "source": [
    "## Modifying the Dictionary Element\n",
    "## Dictionary Are Mutable, so You can add, update or Delete The Element\n",
    "print(student)\n",
    "\n",
    "## Updated The value of the key \n",
    "student['Age']=33\n",
    "print(student)\n",
    "student['last_name']=\"Rajput\" ## Added the ney key and valur\n",
    "print(student)"
   ]
  },
  {
   "cell_type": "code",
   "execution_count": 19,
   "id": "229dea0f",
   "metadata": {},
   "outputs": [
    {
     "name": "stdout",
     "output_type": "stream",
     "text": [
      "{'Name': 'Rajput', 'Age': 33, 'last_name': 'Rajput'}\n"
     ]
    }
   ],
   "source": [
    "## Delete The Element key And Value\n",
    "\n",
    "del student['Grade']\n",
    "print(student)"
   ]
  },
  {
   "cell_type": "markdown",
   "id": "d29be75c",
   "metadata": {},
   "source": [
    "### Dictionary Methods"
   ]
  },
  {
   "cell_type": "code",
   "execution_count": null,
   "id": "4645adca",
   "metadata": {},
   "outputs": [
    {
     "name": "stdout",
     "output_type": "stream",
     "text": [
      "dict_keys(['Name', 'Age', 'last_name'])\n",
      "dict_values(['Rajput', 33, 'Rajput'])\n",
      "dict_items([('Name', 'Rajput'), ('Age', 33), ('last_name', 'Rajput')])\n"
     ]
    }
   ],
   "source": [
    "## Dictionary Methods\n",
    "\n",
    "keys= student.keys() ## All The Keys\n",
    "print(keys)\n",
    "values= student.values()  ## All The Values\n",
    "print(values)\n",
    "\n",
    "items= student.items()  ## It is the List Of Tuples\n",
    "print(items)"
   ]
  },
  {
   "cell_type": "code",
   "execution_count": 23,
   "id": "1979b2db",
   "metadata": {},
   "outputs": [
    {
     "name": "stdout",
     "output_type": "stream",
     "text": [
      "{'Name': 'Rajput', 'Age': 33, 'last_name': 'Rajput'}\n",
      "{'Name': 'Rajput', 'Age': 33, 'last_name': 'Rajput'}\n"
     ]
    }
   ],
   "source": [
    "## Shallow Copy\n",
    "\n",
    "student_Copy= student\n",
    "print(student)\n",
    "print(student_Copy)"
   ]
  },
  {
   "cell_type": "code",
   "execution_count": 30,
   "id": "87e75cde",
   "metadata": {},
   "outputs": [
    {
     "name": "stdout",
     "output_type": "stream",
     "text": [
      "{'Name': 'aman', 'Age': 33, 'last_name': 'Rajput'}\n",
      "{'Name': 'aman', 'Age': 33, 'last_name': 'Rajput'}\n"
     ]
    }
   ],
   "source": [
    "student[\"Name\"]=\"aman\"\n",
    "print(student)\n",
    "print(student_Copy)\n"
   ]
  },
  {
   "cell_type": "code",
   "execution_count": 31,
   "id": "55167e3d",
   "metadata": {},
   "outputs": [
    {
     "name": "stdout",
     "output_type": "stream",
     "text": [
      "{'Name': 'aman', 'Age': 33, 'last_name': 'Rajput'}\n",
      "{'Name': 'aman', 'Age': 33, 'last_name': 'Rajput'}\n"
     ]
    }
   ],
   "source": [
    "## Shallow Copy Concept\n",
    "\n",
    "student_Copy1= student.copy()\n",
    "print(student_Copy1)\n",
    "print(student)"
   ]
  },
  {
   "cell_type": "code",
   "execution_count": 32,
   "id": "98b88ecc",
   "metadata": {},
   "outputs": [
    {
     "name": "stdout",
     "output_type": "stream",
     "text": [
      "{'Name': 'Kartikey', 'Age': 33, 'last_name': 'Rajput'}\n",
      "{'Name': 'aman', 'Age': 33, 'last_name': 'Rajput'}\n"
     ]
    }
   ],
   "source": [
    "student[\"Name\"]=\"Kartikey\"\n",
    "print(student)\n",
    "print(student_Copy1)"
   ]
  },
  {
   "cell_type": "code",
   "execution_count": 34,
   "id": "12c200cf",
   "metadata": {},
   "outputs": [
    {
     "name": "stdout",
     "output_type": "stream",
     "text": [
      "Name\n",
      "Age\n",
      "last_name\n"
     ]
    }
   ],
   "source": [
    "## Iterating Over Dictionary\n",
    "## We can use the Loops for Iterating\n",
    "## Iterating over Keys\n",
    "\n",
    "for keys in student.keys():\n",
    "    print(keys)\n"
   ]
  },
  {
   "cell_type": "code",
   "execution_count": 37,
   "id": "8cd16de8",
   "metadata": {},
   "outputs": [
    {
     "name": "stdout",
     "output_type": "stream",
     "text": [
      "Kartikey\n",
      "33\n",
      "Rajput\n"
     ]
    }
   ],
   "source": [
    "## Iterating over values\n",
    "\n",
    "for values in student.values():\n",
    "    print(values)"
   ]
  },
  {
   "cell_type": "code",
   "execution_count": 36,
   "id": "7f2ec93e",
   "metadata": {},
   "outputs": [
    {
     "name": "stdout",
     "output_type": "stream",
     "text": [
      "Name:Kartikey\n",
      "Age:33\n",
      "last_name:Rajput\n"
     ]
    }
   ],
   "source": [
    "## Iterating over Items\n",
    "\n",
    "for keys,values in student.items():\n",
    "    print(f\"{keys}:{values}\")"
   ]
  },
  {
   "cell_type": "code",
   "execution_count": 3,
   "id": "04ef0f72",
   "metadata": {},
   "outputs": [
    {
     "name": "stdout",
     "output_type": "stream",
     "text": [
      "{'student1': {'name': 'Kartikey', 'age': 19}, 'student2': {'name': 'Bhumi', 'age': 21}}\n"
     ]
    }
   ],
   "source": [
    "## Nested Dictionary\n",
    "\n",
    "students= {\n",
    "    \"student1\":{\"name\":\"Kartikey\",\"age\":19},\n",
    "    \"student2\":{\"name\":\"Bhumi\",\"age\":21}\n",
    "}\n",
    "print(students)\n"
   ]
  },
  {
   "cell_type": "code",
   "execution_count": 5,
   "id": "0d8c5cbb",
   "metadata": {},
   "outputs": [
    {
     "name": "stdout",
     "output_type": "stream",
     "text": [
      "Bhumi\n",
      "Kartikey\n"
     ]
    }
   ],
   "source": [
    "## Access nested Dictionary Elements\n",
    "print(students[\"student2\"][\"name\"])\n",
    "print(students[\"student1\"][\"name\"])"
   ]
  },
  {
   "cell_type": "code",
   "execution_count": 8,
   "id": "73f0982f",
   "metadata": {},
   "outputs": [
    {
     "name": "stdout",
     "output_type": "stream",
     "text": [
      "student1:{'name': 'Kartikey', 'age': 19}\n",
      "name:Kartikey\n",
      "age:19\n",
      "student2:{'name': 'Bhumi', 'age': 21}\n",
      "name:Bhumi\n",
      "age:21\n"
     ]
    }
   ],
   "source": [
    "## Iterating Over Nested Dictionaries\n",
    "\n",
    "for student_ID, student_info in students.items():\n",
    "    print(f\"{student_ID}:{student_info}\")\n",
    "    for key,value in student_info.items():\n",
    "        print(f\"{key}:{value}\")"
   ]
  },
  {
   "cell_type": "markdown",
   "id": "641907b2",
   "metadata": {},
   "source": [
    "### Dictionary Comprehension"
   ]
  },
  {
   "cell_type": "code",
   "execution_count": 9,
   "id": "78f56fb8",
   "metadata": {},
   "outputs": [
    {
     "name": "stdout",
     "output_type": "stream",
     "text": [
      "{0: 0, 1: 1, 2: 4, 3: 9, 4: 16}\n"
     ]
    }
   ],
   "source": [
    "## Dictionary Comprehension\n",
    "squares={x:x**2 for x in range(5)}\n",
    "print(squares)"
   ]
  },
  {
   "cell_type": "code",
   "execution_count": 10,
   "id": "2a15abea",
   "metadata": {},
   "outputs": [
    {
     "name": "stdout",
     "output_type": "stream",
     "text": [
      "{0: 0, 2: 4, 4: 16, 6: 36, 8: 64}\n"
     ]
    }
   ],
   "source": [
    "## Conditional dictionary Compreehension\n",
    "\n",
    "even ={x:x**2 for x in range(10) if x%2==0}\n",
    "print(even)"
   ]
  },
  {
   "cell_type": "code",
   "execution_count": 11,
   "id": "10ce51c2",
   "metadata": {},
   "outputs": [
    {
     "name": "stdout",
     "output_type": "stream",
     "text": [
      "{1: 1, 2: 3, 3: 5, 4: 6}\n"
     ]
    }
   ],
   "source": [
    "## Practicles Examples\n",
    "## Use a dictionary to count the Frequency of elements in list\n",
    "\n",
    "numbers=[1,2,2,2,3,3,3,3,3,4,4,4,4,4,4]\n",
    "frequency = {}\n",
    "for number in numbers:\n",
    "    if number in frequency:\n",
    "        frequency[number]+=1\n",
    "    else:\n",
    "        frequency[number]=1\n",
    "print(frequency)\n",
    "\n"
   ]
  },
  {
   "cell_type": "code",
   "execution_count": 16,
   "id": "24041b18",
   "metadata": {},
   "outputs": [
    {
     "name": "stdout",
     "output_type": "stream",
     "text": [
      "{'A': 1, 'B': 2, 'C': 3, 'D': 4, 'E': 5, 'F': 6}\n"
     ]
    }
   ],
   "source": [
    "dict1= {\"A\":1,\"B\":2,\"C\":3}\n",
    "dict2= {\"D\":4,\"E\":5,\"F\":6}\n",
    "merge= {**dict1,**dict2}\n",
    "print(merge)\n"
   ]
  },
  {
   "cell_type": "code",
   "execution_count": null,
   "id": "502f6656",
   "metadata": {},
   "outputs": [
    {
     "name": "stdout",
     "output_type": "stream",
     "text": [
      "-Buy Groceries\n",
      "-Pay The Bills\n",
      "-Schedule The Meeting\n",
      "-Go for a Run\n",
      "['Buy Groceries', 'Pay The Bills', 'Schedule The Meeting', 'Go for a Run']\n"
     ]
    }
   ],
   "source": [
    "to_do_list= [\"Buy Groceries\",\"Clean The House\",\"Pay The Bills\"]\n",
    "\n",
    "## Adding the tasks\n",
    "\n",
    "to_do_list.append(\"Schedule The Meeting\")\n",
    "to_do_list.append(\"Go for a Run\")\n",
    "to_do_list.insert(1,\"Sex\")\n",
    "\n",
    "## Removing a Completed Task\n",
    "\n",
    "to_do_list.remove(\"Clean The House\")\n",
    "\n",
    "## Checking if a task is in the List\n",
    "if \"sex\" in to_do_list:\n",
    "    print(\"Find The Girl and Fucked it up!\")\n",
    "for task in to_do_list:\n",
    "    print(f\"-{task}\")\n",
    "\n",
    "print(to_do_list)\n"
   ]
  },
  {
   "cell_type": "markdown",
   "id": "3578019d",
   "metadata": {},
   "source": [
    "### Managing The Inventary"
   ]
  },
  {
   "cell_type": "code",
   "execution_count": 20,
   "id": "5e009488",
   "metadata": {},
   "outputs": [
    {
     "name": "stdout",
     "output_type": "stream",
     "text": [
      "Oranges are In stock.\n",
      "\n",
      "Inventary List:\n",
      "-apples\n",
      "-Oranges\n",
      "-Grapes\n",
      "-Pineapples\n",
      "-Strawberries\n"
     ]
    }
   ],
   "source": [
    "inventary=[\"apples\",\"Banana\",\"Oranges\",\"Grapes\",\"Pineapples\"]\n",
    "\n",
    "## Adding the New Item\n",
    "\n",
    "inventary.append(\"Strawberries\")\n",
    "\n",
    "## Deleting The Item\n",
    "inventary.remove(\"Banana\")\n",
    "\n",
    "## Checking the item is in stock\n",
    "item= \"Oranges\"\n",
    "if item in inventary:\n",
    "    print(f\"{item} are In stock.\")\n",
    "else:\n",
    "    print(f\"{item} is Not in Stock.\")\n",
    "\n",
    "## Print The Inventary List\n",
    "\n",
    "print(\"\\nInventary List:\")\n",
    "for item in inventary:\n",
    "    print(f\"-{item}\")\n"
   ]
  },
  {
   "cell_type": "code",
   "execution_count": 4,
   "id": "ec049649",
   "metadata": {},
   "outputs": [
    {
     "name": "stdout",
     "output_type": "stream",
     "text": [
      "15\n"
     ]
    }
   ],
   "source": [
    "print( 15%20)\n"
   ]
  }
 ],
 "metadata": {
  "kernelspec": {
   "display_name": "Python 3",
   "language": "python",
   "name": "python3"
  },
  "language_info": {
   "codemirror_mode": {
    "name": "ipython",
    "version": 3
   },
   "file_extension": ".py",
   "mimetype": "text/x-python",
   "name": "python",
   "nbconvert_exporter": "python",
   "pygments_lexer": "ipython3",
   "version": "3.12.3"
  }
 },
 "nbformat": 4,
 "nbformat_minor": 5
}
