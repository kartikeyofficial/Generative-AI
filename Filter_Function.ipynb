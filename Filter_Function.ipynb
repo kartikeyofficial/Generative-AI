{
 "cells": [
  {
   "cell_type": "markdown",
   "id": "42052ed4",
   "metadata": {},
   "source": [
    "## The Filter() Function in Python\n",
    "\n",
    "the filter() function constructs an iterator from element of an iterable of an iterable for which a function return true. it is used to filter out items from a list(or any other iterable) based on a condition."
   ]
  },
  {
   "cell_type": "code",
   "execution_count": 1,
   "id": "54cb124f",
   "metadata": {},
   "outputs": [
    {
     "data": {
      "text/plain": [
       "True"
      ]
     },
     "execution_count": 1,
     "metadata": {},
     "output_type": "execute_result"
    }
   ],
   "source": [
    "def even(num):\n",
    "    if num%2==0:\n",
    "        return True\n",
    "even(24)"
   ]
  },
  {
   "cell_type": "code",
   "execution_count": null,
   "id": "50f2ea84",
   "metadata": {},
   "outputs": [
    {
     "data": {
      "text/plain": [
       "[2, 4, 6, 8, 10, 12, 14]"
      ]
     },
     "execution_count": 2,
     "metadata": {},
     "output_type": "execute_result"
    }
   ],
   "source": [
    "lst=[1,2,3,4,5,6,7,8,9,10,11,12,13,14,15] ## Filter Use with def Function\n",
    "list(filter(even,lst))\n"
   ]
  },
  {
   "cell_type": "code",
   "execution_count": 3,
   "id": "43f4c48d",
   "metadata": {},
   "outputs": [
    {
     "name": "stdout",
     "output_type": "stream",
     "text": [
      "[6, 7, 8, 9, 10]\n"
     ]
    }
   ],
   "source": [
    "## Filter with a Lambda Function\n",
    "\n",
    "number=[1,2,3,4,5,6,7,8,9,10]\n",
    "greater_than_five= list(filter(lambda x:x>5, number))\n",
    "print(greater_than_five)"
   ]
  },
  {
   "cell_type": "code",
   "execution_count": 5,
   "id": "3bfda033",
   "metadata": {},
   "outputs": [
    {
     "name": "stdout",
     "output_type": "stream",
     "text": [
      "[6, 8, 10]\n"
     ]
    }
   ],
   "source": [
    "## Filter with a lambda Function and multiple condition\n",
    "\n",
    "numbers=[1,2,3,4,5,6,7,8,9,10]\n",
    "even_and_greater_than_five= list(filter(lambda x:x>5 and x%2==0, numbers))\n",
    "print(even_and_greater_than_five)"
   ]
  },
  {
   "cell_type": "code",
   "execution_count": 6,
   "id": "38892658",
   "metadata": {},
   "outputs": [
    {
     "data": {
      "text/plain": [
       "[{'name': 'Krish', 'age': 20}, {'name': 'Bhumi', 'age': 21}]"
      ]
     },
     "execution_count": 6,
     "metadata": {},
     "output_type": "execute_result"
    }
   ],
   "source": [
    "## Filter() to check if the age is Greater than 25 in dictionaries\n",
    "\n",
    "people=[\n",
    "    {'name':'Krish','age':20},\n",
    "    {'name':'Bhumi','age':21},\n",
    "    {'name':'Deepika','age':13}\n",
    "]\n",
    "def age_Greater_than_18(person):\n",
    "    return person['age']>18\n",
    "list(filter(age_Greater_than_18,people))\n"
   ]
  }
 ],
 "metadata": {
  "kernelspec": {
   "display_name": "Python 3",
   "language": "python",
   "name": "python3"
  },
  "language_info": {
   "codemirror_mode": {
    "name": "ipython",
    "version": 3
   },
   "file_extension": ".py",
   "mimetype": "text/x-python",
   "name": "python",
   "nbconvert_exporter": "python",
   "pygments_lexer": "ipython3",
   "version": "3.12.3"
  }
 },
 "nbformat": 4,
 "nbformat_minor": 5
}
