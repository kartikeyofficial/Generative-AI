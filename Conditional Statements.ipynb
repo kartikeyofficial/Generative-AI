{
 "cells": [
  {
   "cell_type": "markdown",
   "id": "e86cfbb7",
   "metadata": {},
   "source": [
    "## Conditional Statements"
   ]
  },
  {
   "cell_type": "code",
   "execution_count": 1,
   "id": "55f8c8e8",
   "metadata": {},
   "outputs": [
    {
     "name": "stdout",
     "output_type": "stream",
     "text": [
      "You Are Elligible To vote In the Election\n"
     ]
    }
   ],
   "source": [
    "## If Statement\n",
    "age= 20\n",
    "if(age>=18):{\n",
    "    print(\"You Are Elligible To vote In the Election\")\n",
    "\n",
    "}"
   ]
  },
  {
   "cell_type": "code",
   "execution_count": 2,
   "id": "cefd574b",
   "metadata": {},
   "outputs": [
    {
     "name": "stdout",
     "output_type": "stream",
     "text": [
      "You are a Minor\n"
     ]
    }
   ],
   "source": [
    "## else Statement\n",
    "\n",
    "age =16\n",
    "if(age>=18):{\n",
    "    print(\"You are Elligible For Voting\")\n",
    "}\n",
    "else:{\n",
    "    print(\"You are a Minor\")\n",
    "\n",
    "}\n"
   ]
  },
  {
   "cell_type": "code",
   "execution_count": null,
   "id": "b5fd279d",
   "metadata": {},
   "outputs": [
    {
     "name": "stdout",
     "output_type": "stream",
     "text": [
      "You are a Child\n"
     ]
    }
   ],
   "source": [
    "## elif Statement\n",
    "age =17\n",
    "if (age<13):\n",
    "    print(\"You are a Child\")\n",
    "elif(age<18):\n",
    "    print(\"You are a Teenager\")\n",
    "else:\n",
    "    print(\"You are a Adult\")"
   ]
  },
  {
   "cell_type": "code",
   "execution_count": 7,
   "id": "0dd235ed",
   "metadata": {},
   "outputs": [
    {
     "name": "stdout",
     "output_type": "stream",
     "text": [
      "The Number Is Negative\n"
     ]
    }
   ],
   "source": [
    "## Nested Conditional Statement\n",
    "## number- even, odd, negative\n",
    "\n",
    "num=int(input(\"Enter the Number:\"))\n",
    "if num>=0:\n",
    "    print(\"The NUmber If Positive\")\n",
    "    if num%2==0:\n",
    "        print(\"The NUmber Is Even\")\n",
    "    else:\n",
    "        print(\"The Number Is Odd\")\n",
    "else:\n",
    "    print(\"The Number Is Negative\")\n"
   ]
  },
  {
   "cell_type": "code",
   "execution_count": 11,
   "id": "6b2d7fea",
   "metadata": {},
   "outputs": [
    {
     "name": "stdout",
     "output_type": "stream",
     "text": [
      "This 2024  Is A Leap Year\n"
     ]
    }
   ],
   "source": [
    "## Determine  The Year is Leap Year Or Not Using Nested Conditional Statement\n",
    "\n",
    "year= int(input(\"Enter The Year:\"))\n",
    "if year%4==0:\n",
    "    if year%100==0:\n",
    "        if year%400:\n",
    "            print(\"This\",year,\" Year is A Leap Year\")\n",
    "        else:\n",
    "            print(\"This\",year,\" Is Not A Leap Year\")\n",
    "    else:\n",
    "        print(\"This\",year,\" Is A Leap Year\")\n",
    "else:\n",
    "    print(\"This\",year,\" Is Not A Leap Year\")"
   ]
  }
 ],
 "metadata": {
  "kernelspec": {
   "display_name": "Python 3",
   "language": "python",
   "name": "python3"
  },
  "language_info": {
   "codemirror_mode": {
    "name": "ipython",
    "version": 3
   },
   "file_extension": ".py",
   "mimetype": "text/x-python",
   "name": "python",
   "nbconvert_exporter": "python",
   "pygments_lexer": "ipython3",
   "version": "3.12.3"
  }
 },
 "nbformat": 4,
 "nbformat_minor": 5
}
