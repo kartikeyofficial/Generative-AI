{
 "cells": [
  {
   "cell_type": "markdown",
   "id": "5e349456",
   "metadata": {},
   "source": [
    "## Lambda Function in Python\n",
    "\n",
    "lambda Function are Samll anonymous function defines the lambda keyword.they can have any number of argument but only one Expression . they are commonly used for short Opertaion or as arguments to higher_order function"
   ]
  },
  {
   "cell_type": "code",
   "execution_count": null,
   "id": "f2fe955b",
   "metadata": {},
   "outputs": [],
   "source": [
    "## Syntax\n",
    "\n",
    "lambda arguments: expression"
   ]
  },
  {
   "cell_type": "code",
   "execution_count": 1,
   "id": "0addda5e",
   "metadata": {},
   "outputs": [
    {
     "data": {
      "text/plain": [
       "9"
      ]
     },
     "execution_count": 1,
     "metadata": {},
     "output_type": "execute_result"
    }
   ],
   "source": [
    "def addition(a,b):\n",
    "    return a+b\n",
    "addition(4,5)"
   ]
  },
  {
   "cell_type": "code",
   "execution_count": null,
   "id": "73c48c4b",
   "metadata": {},
   "outputs": [
    {
     "name": "stdout",
     "output_type": "stream",
     "text": [
      "11\n"
     ]
    }
   ],
   "source": [
    "addition=lambda a,b: a+b ## Lambda Expression\n",
    "type(addition)\n",
    "print(addition(5,6))\n"
   ]
  },
  {
   "cell_type": "code",
   "execution_count": null,
   "id": "293d946f",
   "metadata": {},
   "outputs": [],
   "source": [
    "def even(num):\n",
    "    if num%2==0:\n",
    "        return True\n",
    "    else:\n",
    "        return False"
   ]
  },
  {
   "cell_type": "code",
   "execution_count": 5,
   "id": "c0dff7b3",
   "metadata": {},
   "outputs": [
    {
     "data": {
      "text/plain": [
       "True"
      ]
     },
     "execution_count": 5,
     "metadata": {},
     "output_type": "execute_result"
    }
   ],
   "source": [
    "even1= lambda num: num%2==0\n",
    "even1(10)"
   ]
  },
  {
   "cell_type": "code",
   "execution_count": 1,
   "id": "756927a6",
   "metadata": {},
   "outputs": [
    {
     "data": {
      "text/plain": [
       "60"
      ]
     },
     "execution_count": 1,
     "metadata": {},
     "output_type": "execute_result"
    }
   ],
   "source": [
    "def addition(x,y,z):\n",
    "    return x+y+z\n",
    "addition(10,20,30)"
   ]
  },
  {
   "cell_type": "code",
   "execution_count": 2,
   "id": "9cc3751b",
   "metadata": {},
   "outputs": [
    {
     "data": {
      "text/plain": [
       "60"
      ]
     },
     "execution_count": 2,
     "metadata": {},
     "output_type": "execute_result"
    }
   ],
   "source": [
    "addition = lambda x,y,z: x+y+z\n",
    "addition(10,20,30)"
   ]
  },
  {
   "cell_type": "markdown",
   "id": "5b6de421",
   "metadata": {},
   "source": [
    "### Map Function"
   ]
  },
  {
   "cell_type": "code",
   "execution_count": 4,
   "id": "b083e9bc",
   "metadata": {},
   "outputs": [
    {
     "data": {
      "text/plain": [
       "[1, 4, 9, 16, 25, 36]"
      ]
     },
     "execution_count": 4,
     "metadata": {},
     "output_type": "execute_result"
    }
   ],
   "source": [
    "## map() - applies a function to all item in a list\n",
    "numbers=[1,2,3,4,5,6]\n",
    "\n",
    "list(map(lambda x:x**2,numbers))"
   ]
  }
 ],
 "metadata": {
  "kernelspec": {
   "display_name": "Python 3",
   "language": "python",
   "name": "python3"
  },
  "language_info": {
   "codemirror_mode": {
    "name": "ipython",
    "version": 3
   },
   "file_extension": ".py",
   "mimetype": "text/x-python",
   "name": "python",
   "nbconvert_exporter": "python",
   "pygments_lexer": "ipython3",
   "version": "3.12.3"
  }
 },
 "nbformat": 4,
 "nbformat_minor": 5
}
