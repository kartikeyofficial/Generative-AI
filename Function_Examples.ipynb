{
 "cells": [
  {
   "cell_type": "markdown",
   "id": "65964418",
   "metadata": {},
   "source": [
    "## Functions Examples:"
   ]
  },
  {
   "cell_type": "markdown",
   "id": "8f1ced23",
   "metadata": {},
   "source": [
    "### Example 1: Temperature Conversion"
   ]
  },
  {
   "cell_type": "code",
   "execution_count": 2,
   "id": "e97d1bf8",
   "metadata": {},
   "outputs": [
    {
     "name": "stdout",
     "output_type": "stream",
     "text": [
      "77.0\n",
      "25.0\n"
     ]
    }
   ],
   "source": [
    "def convert_temperature(temp,unit):\n",
    "    if unit== 'C':\n",
    "        return temp*(9/5)+32  ## Celcius To Fahrenheit\n",
    "    elif unit== 'F':\n",
    "        return (temp-32)*5/9\n",
    "    else:\n",
    "        return None\n",
    "print(convert_temperature(25,'C'))\n",
    "print(convert_temperature(77,'F'))"
   ]
  },
  {
   "cell_type": "markdown",
   "id": "808084ed",
   "metadata": {},
   "source": [
    "### Passwword Strength Checker"
   ]
  },
  {
   "cell_type": "code",
   "execution_count": 6,
   "id": "f52bff67",
   "metadata": {},
   "outputs": [
    {
     "name": "stdout",
     "output_type": "stream",
     "text": [
      "False\n"
     ]
    }
   ],
   "source": [
    "def strong_password( password= input(\"Enter The Pasword: \")):\n",
    "   \n",
    "    if len(password)<8:\n",
    "        return False\n",
    "    if not any(char.isdigit() for char in password):\n",
    "        return False\n",
    "    if not any(char.islower() for char in password):\n",
    "        return False\n",
    "    if not any(char.isupper() for char in password):\n",
    "        return False\n",
    "    if not any(char in \"!@#$%^&()_+\" for char in password):\n",
    "        return False\n",
    "    return True\n",
    "print(strong_password())\n",
    "\n",
    "    "
   ]
  },
  {
   "cell_type": "markdown",
   "id": "d5d7e17b",
   "metadata": {},
   "source": [
    "Calculate The Total Cost Of Item in a Shopping Cart"
   ]
  },
  {
   "cell_type": "code",
   "execution_count": 8,
   "id": "94fc90ae",
   "metadata": {},
   "outputs": [
    {
     "name": "stdout",
     "output_type": "stream",
     "text": [
      "5.8999999999999995\n"
     ]
    }
   ],
   "source": [
    "def calculate_total_cost(cart):\n",
    "    total_cost=0\n",
    "    for item in cart:\n",
    "        total_cost +=item['price']* item['quantity']\n",
    "    return total_cost \n",
    "\n",
    "\n",
    "## Example Cart Data\n",
    "\n",
    "cart =[\n",
    "    {'name':'Appple','price':0.5,'quantity':4},\n",
    "    {'name':'Banana','price':0.3,'quantity':6},\n",
    "    {'name':'Oranges','price':0.7,'quantity':3}\n",
    "]\n",
    "\n",
    "## Calling the function\n",
    "total_cost = calculate_total_cost(cart)\n",
    "print(total_cost)\n"
   ]
  },
  {
   "cell_type": "markdown",
   "id": "3e818e9d",
   "metadata": {},
   "source": [
    "### Example [4]: Check if a String is Palindrome"
   ]
  },
  {
   "cell_type": "code",
   "execution_count": 9,
   "id": "491c25d2",
   "metadata": {},
   "outputs": [
    {
     "name": "stdout",
     "output_type": "stream",
     "text": [
      "True\n"
     ]
    }
   ],
   "source": [
    "def is_palindrome(s):\n",
    "    s=s.lower().replace(\" \",\"\")\n",
    "    return s==s[::-1]\n",
    "\n",
    "print(is_palindrome(\"ANA\"))"
   ]
  },
  {
   "cell_type": "markdown",
   "id": "273c94e8",
   "metadata": {},
   "source": [
    "### Example 5: Calculate the Factorial of a Number Recursion"
   ]
  },
  {
   "cell_type": "code",
   "execution_count": 3,
   "id": "82eb07b6",
   "metadata": {},
   "outputs": [
    {
     "data": {
      "text/plain": [
       "1"
      ]
     },
     "execution_count": 3,
     "metadata": {},
     "output_type": "execute_result"
    }
   ],
   "source": [
    "def factorial(n=int(input(\"Enter The Number:\"))):\n",
    "    if n==0:\n",
    "        return 1\n",
    "    else:\n",
    "        return n * factorial(n-1)\n",
    "factorial()\n",
    "    "
   ]
  },
  {
   "cell_type": "markdown",
   "id": "ada3bc98",
   "metadata": {},
   "source": [
    "### Example 6: A Function To Read A File And Count the Frequency Of Each Word"
   ]
  },
  {
   "cell_type": "code",
   "execution_count": 4,
   "id": "27bd7237",
   "metadata": {},
   "outputs": [
    {
     "name": "stdout",
     "output_type": "stream",
     "text": [
      "{'hello': 2, 'is': 2, 'the': 2, 'good': 2, 'boy': 1, 'and': 1, 'kartikey': 2}\n"
     ]
    }
   ],
   "source": [
    "def count_word_frequnency(file_path):\n",
    "    word_count={}\n",
    "    with open(file_path,'r') as file:\n",
    "        for line in file:\n",
    "            words= line.split()\n",
    "            for word in words:\n",
    "                word = word.lower().strip('.,!?:;\\'')\n",
    "                word_count[word]= word_count.get(word,0)+1\n",
    "    return word_count\n",
    "filepath = 'sample.txt'\n",
    "word_frequnency=count_word_frequnency(filepath)\n",
    "print(word_frequnency)"
   ]
  },
  {
   "cell_type": "markdown",
   "id": "c0bb6144",
   "metadata": {},
   "source": [
    "### Example 7: Validate Email Address"
   ]
  },
  {
   "cell_type": "code",
   "execution_count": 6,
   "id": "1fc429b0",
   "metadata": {},
   "outputs": [
    {
     "data": {
      "text/plain": [
       "False"
      ]
     },
     "execution_count": 6,
     "metadata": {},
     "output_type": "execute_result"
    }
   ],
   "source": [
    "import re\n",
    "\n",
    "def is_valid_email(email=input(\"Enter Your E-Mail: \")):\n",
    "    pattern = r'^[a-zA-Z0-9_.+-]+@[a-zA-Z0-9-]+\\.[a-zA-Z0-9-.]+$'\n",
    "    return re.match(pattern, email) is not None\n",
    "\n",
    "is_valid_email()"
   ]
  }
 ],
 "metadata": {
  "kernelspec": {
   "display_name": "Python 3",
   "language": "python",
   "name": "python3"
  },
  "language_info": {
   "codemirror_mode": {
    "name": "ipython",
    "version": 3
   },
   "file_extension": ".py",
   "mimetype": "text/x-python",
   "name": "python",
   "nbconvert_exporter": "python",
   "pygments_lexer": "ipython3",
   "version": "3.12.3"
  }
 },
 "nbformat": 4,
 "nbformat_minor": 5
}
